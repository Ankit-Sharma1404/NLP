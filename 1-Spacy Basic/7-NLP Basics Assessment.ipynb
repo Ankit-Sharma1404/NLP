{
 "cells": [
  {
   "cell_type": "markdown",
   "metadata": {},
   "source": [
    "# NLP Basics Assessment"
   ]
  },
  {
   "cell_type": "markdown",
   "metadata": {},
   "source": [
    "For this assessment we'll be using the short story [_An Occurrence at Owl Creek Bridge_](https://en.wikipedia.org/wiki/An_Occurrence_at_Owl_Creek_Bridge) by Ambrose Bierce (1890). <br>The story is in the public domain; the text file was obtained from [Project Gutenberg](https://www.gutenberg.org/ebooks/375.txt.utf-8)."
   ]
  },
  {
   "cell_type": "code",
   "execution_count": 4,
   "metadata": {},
   "outputs": [],
   "source": [
    "# RUN THIS CELL to perform standard imports:\n",
    "import spacy\n",
    "nlp = spacy.load('en_core_web_sm')"
   ]
  },
  {
   "cell_type": "markdown",
   "metadata": {},
   "source": [
    "**1. Create a Doc object from the file `owlcreek.txt`**<br>\n",
    "> HINT: Use `with open('../TextFiles/owlcreek.txt') as f:`"
   ]
  },
  {
   "cell_type": "code",
   "execution_count": 7,
   "metadata": {},
   "outputs": [],
   "source": [
    "# ENTER CODE HERE\n",
    "\n",
    "with open(\"owlcreek.txt\") as f:\n",
    "    doc =  nlp(f.read())"
   ]
  },
  {
   "cell_type": "code",
   "execution_count": 8,
   "metadata": {},
   "outputs": [
    {
     "data": {
      "text/plain": [
       "AN OCCURRENCE AT OWL CREEK BRIDGE\n",
       "\n",
       "by Ambrose Bierce\n",
       "\n",
       "I\n",
       "\n",
       "A man stood upon a railroad bridge in northern Alabama, looking down\n",
       "into the swift water twenty feet below.  "
      ]
     },
     "execution_count": 8,
     "metadata": {},
     "output_type": "execute_result"
    }
   ],
   "source": [
    "# Run this cell to verify it worked\n",
    "\n",
    "doc[:36]"
   ]
  },
  {
   "cell_type": "markdown",
   "metadata": {},
   "source": [
    "**2. How many tokens are contained in the file ?**"
   ]
  },
  {
   "cell_type": "code",
   "execution_count": 9,
   "metadata": {},
   "outputs": [
    {
     "data": {
      "text/plain": [
       "4833"
      ]
     },
     "execution_count": 9,
     "metadata": {},
     "output_type": "execute_result"
    }
   ],
   "source": [
    "len(doc)"
   ]
  },
  {
   "cell_type": "markdown",
   "metadata": {},
   "source": [
    "**3. How many sentences are contained in the file ?**<br>\n",
    "**HINT:** You'll want to build a list first !"
   ]
  },
  {
   "cell_type": "code",
   "execution_count": 10,
   "metadata": {},
   "outputs": [],
   "source": [
    "doc_sentences = [sent for sent in doc.sents]"
   ]
  },
  {
   "cell_type": "code",
   "execution_count": 11,
   "metadata": {},
   "outputs": [
    {
     "data": {
      "text/plain": [
       "222"
      ]
     },
     "execution_count": 11,
     "metadata": {},
     "output_type": "execute_result"
    }
   ],
   "source": [
    "len(doc_sentences)"
   ]
  },
  {
   "cell_type": "markdown",
   "metadata": {},
   "source": [
    "**4. Print the second in the document?**<br>\n",
    "**HINT:** Indexing starts at Zero, and the tittle counts as the first sentence."
   ]
  },
  {
   "cell_type": "code",
   "execution_count": 17,
   "metadata": {},
   "outputs": [
    {
     "name": "stdout",
     "output_type": "stream",
     "text": [
      "A man stood upon a railroad bridge in northern Alabama, looking down\n",
      "into the swift water twenty feet below.  \n"
     ]
    }
   ],
   "source": [
    "print(doc_sentences[2].text)"
   ]
  },
  {
   "cell_type": "markdown",
   "metadata": {},
   "source": [
    "**5. For each token in the sentence above, print its `text`, `POS` tag and `lemma`<br>\n",
    "CHALLENGE: Have values line up in columns in the print output.**"
   ]
  },
  {
   "cell_type": "code",
   "execution_count": 20,
   "metadata": {},
   "outputs": [
    {
     "name": "stdout",
     "output_type": "stream",
     "text": [
      "A DET det 11901859001352538922\n",
      "man NOUN nsubj 3104811030673030468\n",
      "stood VERB ROOT 16121235759125543490\n",
      "upon ADP prep 12776617025319584140\n",
      "a DET det 11901859001352538922\n",
      "railroad NOUN compound 11929338562591612190\n",
      "bridge NOUN pobj 10505406131357236919\n",
      "in ADP prep 3002984154512732771\n",
      "northern ADJ amod 14402328224860809449\n",
      "Alabama PROPN pobj 1974316624015891830\n",
      ", PUNCT punct 2593208677638477497\n",
      "looking VERB advcl 16096726548953279178\n",
      "down ADV advmod 6421409113692203669\n",
      "\n",
      " SPACE  962983613142996970\n",
      "into ADP prep 3278561384161438710\n",
      "the DET det 7425985699627899538\n",
      "swift ADJ amod 9502497712543975804\n",
      "water NOUN pobj 7248544922998488549\n",
      "twenty NUM nummod 8304598090389628520\n",
      "feet NOUN npadvmod 779410287755165804\n",
      "below ADV advmod 13516515296229086732\n",
      ". PUNCT punct 12646065887601541794\n",
      "  SPACE  8532415787641010193\n"
     ]
    }
   ],
   "source": [
    "# NORMAL SOLUTION:\n",
    "\n",
    "for token in doc_sentences[2]:\n",
    "    print(f\"{token.text} {token.pos_} {token.dep_} {token.lemma}\")"
   ]
  },
  {
   "cell_type": "code",
   "execution_count": 21,
   "metadata": {},
   "outputs": [
    {
     "name": "stdout",
     "output_type": "stream",
     "text": [
      "A               DET   det        11901859001352538922\n",
      "man             NOUN  nsubj      3104811030673030468\n",
      "stood           VERB  ROOT       16121235759125543490\n",
      "upon            ADP   prep       12776617025319584140\n",
      "a               DET   det        11901859001352538922\n",
      "railroad        NOUN  compound   11929338562591612190\n",
      "bridge          NOUN  pobj       10505406131357236919\n",
      "in              ADP   prep       3002984154512732771\n",
      "northern        ADJ   amod       14402328224860809449\n",
      "Alabama         PROPN pobj       1974316624015891830\n",
      ",               PUNCT punct      2593208677638477497\n",
      "looking         VERB  advcl      16096726548953279178\n",
      "down            ADV   advmod     6421409113692203669\n",
      "\n",
      "               SPACE            962983613142996970\n",
      "into            ADP   prep       3278561384161438710\n",
      "the             DET   det        7425985699627899538\n",
      "swift           ADJ   amod       9502497712543975804\n",
      "water           NOUN  pobj       7248544922998488549\n",
      "twenty          NUM   nummod     8304598090389628520\n",
      "feet            NOUN  npadvmod   779410287755165804\n",
      "below           ADV   advmod     13516515296229086732\n",
      ".               PUNCT punct      12646065887601541794\n",
      "                SPACE            8532415787641010193\n"
     ]
    }
   ],
   "source": [
    "# NORMAL SOLUTION:\n",
    "\n",
    "for token in doc_sentences[2]:\n",
    "    print(f\"{token.text:{15}} {token.pos_:{5}} {token.dep_:{10}} {token.lemma:{15}}\") # For white spaces"
   ]
  },
  {
   "cell_type": "markdown",
   "metadata": {},
   "source": [
    "**6. Write a matches called 'Swimming' that finds both occurances of the phrase \"swimming vigorously\" in the text** <br>\n",
    "**HINT:** You should include an `'IS_SPACE' : True` pattern between the two words!"
   ]
  },
  {
   "cell_type": "code",
   "execution_count": 23,
   "metadata": {},
   "outputs": [],
   "source": [
    "# Import the Matcher Library:\n",
    "\n",
    "from spacy.matcher import Matcher\n",
    "matcher = Matcher(nlp.vocab)"
   ]
  },
  {
   "cell_type": "code",
   "execution_count": 24,
   "metadata": {},
   "outputs": [],
   "source": [
    "# Create a pattern and add it to matcher:\n",
    "\n",
    "pattern = [{'LOWER':'swimming'},{'IS_SPACE':True, 'OP':'*'}, {'Lower':'vigorously'}]"
   ]
  },
  {
   "cell_type": "code",
   "execution_count": 25,
   "metadata": {},
   "outputs": [],
   "source": [
    "matcher.add('Swimming', None, pattern)"
   ]
  },
  {
   "cell_type": "code",
   "execution_count": 26,
   "metadata": {},
   "outputs": [],
   "source": [
    "found_matches = matcher(doc)"
   ]
  },
  {
   "cell_type": "code",
   "execution_count": 27,
   "metadata": {},
   "outputs": [
    {
     "name": "stdout",
     "output_type": "stream",
     "text": [
      "[(12881893835109366681, 1274, 1277), (12881893835109366681, 3607, 3610)]\n"
     ]
    }
   ],
   "source": [
    "print(found_matches)"
   ]
  },
  {
   "cell_type": "code",
   "execution_count": 28,
   "metadata": {},
   "outputs": [],
   "source": [
    "# Create a list of matches called \"found_matches\" and print the list:"
   ]
  },
  {
   "cell_type": "markdown",
   "metadata": {},
   "source": [
    "**7. Print the text surrounding each found match?**"
   ]
  },
  {
   "cell_type": "code",
   "execution_count": 29,
   "metadata": {},
   "outputs": [],
   "source": [
    "def surrounding(doc, start, end):\n",
    "    print(doc[start-5:end+5])"
   ]
  },
  {
   "cell_type": "code",
   "execution_count": 30,
   "metadata": {},
   "outputs": [
    {
     "name": "stdout",
     "output_type": "stream",
     "text": [
      "evade the bullets and, swimming\n",
      "vigorously, reach the bank,\n"
     ]
    }
   ],
   "source": [
    "surrounding(doc, 1274, 1277)"
   ]
  },
  {
   "cell_type": "code",
   "execution_count": 31,
   "metadata": {},
   "outputs": [
    {
     "name": "stdout",
     "output_type": "stream",
     "text": [
      "shoulder; he was now swimming\n",
      "vigorously with the current.  \n"
     ]
    }
   ],
   "source": [
    "surrounding(doc, 3607, 3610)"
   ]
  },
  {
   "cell_type": "code",
   "execution_count": null,
   "metadata": {},
   "outputs": [],
   "source": []
  },
  {
   "cell_type": "markdown",
   "metadata": {},
   "source": [
    "**EXTRA CREDIT:<br>\n",
    "Print the sentence that contains each found match**"
   ]
  },
  {
   "cell_type": "code",
   "execution_count": 33,
   "metadata": {},
   "outputs": [
    {
     "name": "stdout",
     "output_type": "stream",
     "text": [
      "By diving I could evade the bullets and, swimming\n",
      "vigorously, reach the bank, take to the woods and get away home.  \n"
     ]
    }
   ],
   "source": [
    "for sentence in doc_sentences:\n",
    "    if found_matches[0][1] < sentence.end:\n",
    "        print(sentence)\n",
    "        break"
   ]
  },
  {
   "cell_type": "code",
   "execution_count": 34,
   "metadata": {},
   "outputs": [
    {
     "name": "stdout",
     "output_type": "stream",
     "text": [
      "The hunted man saw all this over his shoulder; he was now swimming\n",
      "vigorously with the current.  \n"
     ]
    }
   ],
   "source": [
    "for sentence in doc_sentences:\n",
    "    if found_matches[1][1] < sentence.end:\n",
    "        print(sentence)\n",
    "        break"
   ]
  },
  {
   "cell_type": "code",
   "execution_count": null,
   "metadata": {},
   "outputs": [],
   "source": []
  }
 ],
 "metadata": {
  "kernelspec": {
   "display_name": "Python 3",
   "language": "python",
   "name": "python3"
  },
  "language_info": {
   "codemirror_mode": {
    "name": "ipython",
    "version": 3
   },
   "file_extension": ".py",
   "mimetype": "text/x-python",
   "name": "python",
   "nbconvert_exporter": "python",
   "pygments_lexer": "ipython3",
   "version": "3.7.3"
  }
 },
 "nbformat": 4,
 "nbformat_minor": 2
}
