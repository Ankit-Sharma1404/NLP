{
 "cells": [
  {
   "cell_type": "markdown",
   "metadata": {},
   "source": [
    "# Stop Words\n",
    "Words like \"a\" and \"the\" appear so frequently that they don't require tagging as thoroughly as nouns, verbs and modifiers. We call these *stop words*, and they can be filtered from the text to be processed. spaCy holds a built-in list of some 305 English stop words."
   ]
  },
  {
   "cell_type": "code",
   "execution_count": 1,
   "metadata": {},
   "outputs": [],
   "source": [
    "# Perform standard imports:\n",
    "import spacy\n",
    "nlp = spacy.load('en_core_web_sm')"
   ]
  },
  {
   "cell_type": "code",
   "execution_count": 2,
   "metadata": {},
   "outputs": [
    {
     "name": "stdout",
     "output_type": "stream",
     "text": [
      "{'formerly', 'often', 'he', 'or', '‘s', 'therefore', 'back', 'hereafter', 'although', 'after', 'before', 'more', 'alone', 'there', 'because', '’re', 'front', 'per', 'well', 'further', 'both', 'itself', '’s', 'first', 'was', '’d', 'nevertheless', 'very', 'i', 'other', 'see', 'their', 'throughout', 'between', 'when', 'perhaps', 'something', 'but', 'rather', 'twenty', 'yet', 'which', 'along', 'anything', \"'m\", 'wherein', 'whether', 'been', 'than', 'a', 'n’t', 'noone', 'thence', 'otherwise', 'of', 'nor', 'herself', 'her', 'upon', 'if', 'empty', 'using', 'whereupon', 'did', '‘m', 'it', 'others', 'can', 'full', 'him', 'everyone', 'doing', 'as', 'nowhere', 'an', 'own', 'up', 'without', '’ll', 'regarding', 'were', 'call', 'above', 'whose', 'nothing', 'thus', 'used', 'around', 'ever', 'nine', 'is', 'almost', 'either', 'thereby', 'whereafter', 'keep', 'off', 'these', 'due', 'whoever', 'anyone', 'less', 'hereupon', 'ca', 'over', 'beside', 'be', 'already', \"'ll\", 'neither', 'they', 'together', 'somehow', 'on', 'unless', 'done', 'third', 'anywhere', 'never', 'most', 'towards', 'since', 'please', 'seem', 'name', 'take', 'will', 'against', 'all', 'nobody', 'under', 'whom', 'twelve', 'wherever', 'besides', 'this', 'becomes', 'me', \"'s\", 'mostly', 'toward', 'else', 'through', 'while', 'myself', 'should', 'go', 'bottom', 'then', 'your', 'becoming', 'whence', 'five', 'anyhow', 'hence', 'again', 'get', 'to', 'are', 'latter', 'whole', 'serious', 'became', 'really', 'except', 'do', 'latterly', 'yourself', 'whenever', 'and', '‘ve', 'out', 'below', 'that', 'by', 'show', 'even', \"'ve\", 'also', 'sixty', 'where', 'give', 'had', 'mine', 'each', 'within', 'put', 'who', 'down', 'would', 'namely', 'the', 'same', 'seeming', 'she', 'fifteen', '‘d', 'cannot', 'say', \"n't\", 'ten', 'too', 'quite', \"'re\", 'somewhere', 'amongst', 'yours', '’m', 'us', 'part', 'top', 'so', 'among', 'someone', 'six', 'amount', 'seemed', 'here', 'into', 'ourselves', 'become', 'last', 'several', 'those', 'sometime', 'everything', 'however', '’ve', 'enough', 'few', 'whereas', 'two', 'might', 'ours', 'meanwhile', 'eight', 'what', 'in', 'am', 're', 'via', 'any', 'some', 'move', 'now', 'himself', 'beyond', 'side', 'three', 'with', 'next', 'hereby', 'least', 'herein', 'being', 'whither', 'we', 'at', 'former', 'our', \"'d\", 'therein', 'behind', 'beforehand', 'about', 'during', 'its', 'moreover', 'hers', 'across', 'indeed', 'my', 'made', 'much', 'whatever', 'seems', 'elsewhere', 'such', 'how', 'thru', 'does', 'another', 'must', 'sometimes', 'hundred', 'make', 'thereafter', 'his', 'afterwards', 'for', 'various', 'onto', 'not', 'four', 'until', 'none', 'only', 'could', 'may', 'just', 'why', 'one', 'themselves', 'fifty', '‘ll', 'whereby', 'though', 'every', 'eleven', 'from', 'no', 'have', '‘re', 'them', 'everywhere', 'always', 'has', 'anyway', 'still', 'n‘t', 'once', 'forty', 'thereupon', 'yourselves', 'you', 'many'}\n"
     ]
    }
   ],
   "source": [
    "# Print the set of spaCy's default stop words (remember that sets are unordered):\n",
    "print(nlp.Defaults.stop_words)"
   ]
  },
  {
   "cell_type": "code",
   "execution_count": 3,
   "metadata": {},
   "outputs": [
    {
     "data": {
      "text/plain": [
       "326"
      ]
     },
     "execution_count": 3,
     "metadata": {},
     "output_type": "execute_result"
    }
   ],
   "source": [
    "len(nlp.Defaults.stop_words)"
   ]
  },
  {
   "cell_type": "markdown",
   "metadata": {},
   "source": [
    "## To see if a word is a stop word"
   ]
  },
  {
   "cell_type": "code",
   "execution_count": 4,
   "metadata": {},
   "outputs": [
    {
     "data": {
      "text/plain": [
       "True"
      ]
     },
     "execution_count": 4,
     "metadata": {},
     "output_type": "execute_result"
    }
   ],
   "source": [
    "nlp.vocab['myself'].is_stop"
   ]
  },
  {
   "cell_type": "code",
   "execution_count": 5,
   "metadata": {},
   "outputs": [
    {
     "data": {
      "text/plain": [
       "False"
      ]
     },
     "execution_count": 5,
     "metadata": {},
     "output_type": "execute_result"
    }
   ],
   "source": [
    "nlp.vocab['mystery'].is_stop"
   ]
  },
  {
   "cell_type": "markdown",
   "metadata": {},
   "source": [
    "## To add a stop word\n",
    "There may be times when you wish to add a stop word to the default set. Perhaps you decide that `'btw'` (common shorthand for \"by the way\") should be considered a stop word."
   ]
  },
  {
   "cell_type": "code",
   "execution_count": 6,
   "metadata": {},
   "outputs": [],
   "source": [
    "# Add the word to the set of stop words. Use lowercase!\n",
    "nlp.Defaults.stop_words.add('btw')\n",
    "\n",
    "# Set the stop_word tag on the lexeme\n",
    "nlp.vocab['btw'].is_stop = True"
   ]
  },
  {
   "cell_type": "code",
   "execution_count": 7,
   "metadata": {},
   "outputs": [
    {
     "data": {
      "text/plain": [
       "327"
      ]
     },
     "execution_count": 7,
     "metadata": {},
     "output_type": "execute_result"
    }
   ],
   "source": [
    "len(nlp.Defaults.stop_words)"
   ]
  },
  {
   "cell_type": "code",
   "execution_count": 8,
   "metadata": {},
   "outputs": [
    {
     "data": {
      "text/plain": [
       "True"
      ]
     },
     "execution_count": 8,
     "metadata": {},
     "output_type": "execute_result"
    }
   ],
   "source": [
    "nlp.vocab['btw'].is_stop"
   ]
  },
  {
   "cell_type": "markdown",
   "metadata": {},
   "source": [
    "<font color=green>When adding stop words, always use lowercase. Lexemes are converted to lowercase before being added to **vocab**.</font>"
   ]
  },
  {
   "cell_type": "markdown",
   "metadata": {},
   "source": [
    "## To remove a stop word\n",
    "Alternatively, you may decide that `'beyond'` should not be considered a stop word."
   ]
  },
  {
   "cell_type": "code",
   "execution_count": 9,
   "metadata": {},
   "outputs": [],
   "source": [
    "# Remove the word from the set of stop words\n",
    "nlp.Defaults.stop_words.remove('beyond')\n",
    "\n",
    "# Remove the stop_word tag from the lexeme\n",
    "nlp.vocab['beyond'].is_stop = False"
   ]
  },
  {
   "cell_type": "code",
   "execution_count": 10,
   "metadata": {},
   "outputs": [
    {
     "data": {
      "text/plain": [
       "326"
      ]
     },
     "execution_count": 10,
     "metadata": {},
     "output_type": "execute_result"
    }
   ],
   "source": [
    "len(nlp.Defaults.stop_words)"
   ]
  },
  {
   "cell_type": "code",
   "execution_count": 11,
   "metadata": {},
   "outputs": [
    {
     "data": {
      "text/plain": [
       "False"
      ]
     },
     "execution_count": 11,
     "metadata": {},
     "output_type": "execute_result"
    }
   ],
   "source": [
    "nlp.vocab['beyond'].is_stop"
   ]
  }
 ],
 "metadata": {
  "kernelspec": {
   "display_name": "Python 3",
   "language": "python",
   "name": "python3"
  },
  "language_info": {
   "codemirror_mode": {
    "name": "ipython",
    "version": 3
   },
   "file_extension": ".py",
   "mimetype": "text/x-python",
   "name": "python",
   "nbconvert_exporter": "python",
   "pygments_lexer": "ipython3",
   "version": "3.7.3"
  }
 },
 "nbformat": 4,
 "nbformat_minor": 2
}
